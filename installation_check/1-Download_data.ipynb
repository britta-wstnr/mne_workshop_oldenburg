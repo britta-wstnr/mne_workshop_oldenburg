{
 "cells": [
  {
   "cell_type": "markdown",
   "id": "6deff944",
   "metadata": {},
   "source": [
    "# Download data\n",
    "\n",
    "MNE-Python has several example data set available. They are not automatically shipped with MNE-Python but can be downloaded on demand. To save you some waiting time during the workshop, let's already download the data now!"
   ]
  },
  {
   "cell_type": "code",
   "execution_count": null,
   "id": "9a92e98f",
   "metadata": {},
   "outputs": [],
   "source": [
    "# import mne and the information about the dataset we will be using\n",
    "import mne\n",
    "from mne.datasets import somato"
   ]
  },
  {
   "cell_type": "markdown",
   "id": "3fc479f4",
   "metadata": {},
   "source": [
    "Now we ask MNE-Python to download the dataset if it is not yet there. You will see a progress bar if it starts downloading it. It will also take care of unpacking it, so it is ready for use.\n",
    "If you already have the data downloaded, the cell will return immediately."
   ]
  },
  {
   "cell_type": "code",
   "execution_count": null,
   "id": "e29699c3",
   "metadata": {},
   "outputs": [],
   "source": [
    "data_path = somato.data_path(download=True)"
   ]
  },
  {
   "cell_type": "markdown",
   "id": "6df82979",
   "metadata": {},
   "source": [
    "If you want to see where it downloaded the data, you can print the path. I recommend to not move the datasets, so that MNE-Python can easily find them."
   ]
  },
  {
   "cell_type": "code",
   "execution_count": null,
   "id": "5786c9f5",
   "metadata": {},
   "outputs": [],
   "source": [
    "print(data_path)"
   ]
  }
 ],
 "metadata": {
  "kernelspec": {
   "display_name": "mne_prep_oldenb",
   "language": "python",
   "name": "python3"
  },
  "language_info": {
   "codemirror_mode": {
    "name": "ipython",
    "version": 3
   },
   "file_extension": ".py",
   "mimetype": "text/x-python",
   "name": "python",
   "nbconvert_exporter": "python",
   "pygments_lexer": "ipython3",
   "version": "3.13.5"
  }
 },
 "nbformat": 4,
 "nbformat_minor": 5
}
