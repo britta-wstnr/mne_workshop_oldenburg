{
 "cells": [
  {
   "cell_type": "markdown",
   "metadata": {},
   "source": [
    "# Hello and welcome!\n",
    " \n",
    "With this short notebook, let's check if your installation was successful."
   ]
  },
  {
   "cell_type": "markdown",
   "metadata": {},
   "source": [
    "Let's first see if you have MNE-Python installed. Run the code cell below. It should _not_ show you an error:"
   ]
  },
  {
   "cell_type": "code",
   "execution_count": 1,
   "metadata": {},
   "outputs": [],
   "source": [
    "import mne"
   ]
  },
  {
   "cell_type": "markdown",
   "metadata": {},
   "source": [
    "Let's also check some dependencies that should have been installed alongside. Again, no errors should arise!"
   ]
  },
  {
   "cell_type": "code",
   "execution_count": 2,
   "metadata": {},
   "outputs": [],
   "source": [
    "import numpy\n",
    "import scipy\n",
    "import matplotlib"
   ]
  },
  {
   "cell_type": "markdown",
   "metadata": {},
   "source": [
    "Now, if there were any errors, you could check the following things:\n",
    "\n",
    "1. If you installed MNE-Python in a conda environment, did you activate it _before_ starting your Jupyter notebook server?\n",
    "2. Same as 1.: if you are in an IDE, have you chosen the right environment?\n",
    "3. If that does not solve it, you can check this page and see if your problem is discussed: https://mne.tools/stable/install/advanced.html#advanced-setup"
   ]
  },
  {
   "cell_type": "markdown",
   "metadata": {},
   "source": [
    "Let's also see if you have the right version installed. This should give back `1.2.2` or higher."
   ]
  },
  {
   "cell_type": "code",
   "execution_count": 3,
   "metadata": {},
   "outputs": [
    {
     "data": {
      "text/plain": [
       "'1.9.0'"
      ]
     },
     "execution_count": 3,
     "metadata": {},
     "output_type": "execute_result"
    }
   ],
   "source": [
    "mne.__version__"
   ]
  },
  {
   "cell_type": "markdown",
   "metadata": {},
   "source": [
    "If this gives back a different number, you installed the wrong MNE-Python version, or you are in a wrong environment.\n",
    "\n",
    "(Or you have an advanced path setup ... then it's probably easiest to install everything into a new conda environment!)\n",
    "\n",
    "Lastly, let's check if you installed MNE-Python with all dependencies by importing `pyvista`:"
   ]
  },
  {
   "cell_type": "code",
   "execution_count": null,
   "metadata": {},
   "outputs": [],
   "source": [
    "import pyvista"
   ]
  },
  {
   "cell_type": "markdown",
   "metadata": {},
   "source": [
    "If this fails, please re-install MNE-Python with all dependencies (**not** core dependencies)."
   ]
  }
 ],
 "metadata": {
  "kernelspec": {
   "display_name": "mne_prep_oldenb",
   "language": "python",
   "name": "python3"
  },
  "language_info": {
   "codemirror_mode": {
    "name": "ipython",
    "version": 3
   },
   "file_extension": ".py",
   "mimetype": "text/x-python",
   "name": "python",
   "nbconvert_exporter": "python",
   "pygments_lexer": "ipython3",
   "version": "3.13.5"
  },
  "orig_nbformat": 4
 },
 "nbformat": 4,
 "nbformat_minor": 2
}
