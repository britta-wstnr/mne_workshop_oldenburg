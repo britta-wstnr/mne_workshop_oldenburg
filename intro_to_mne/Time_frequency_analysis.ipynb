{
 "cells": [
  {
   "cell_type": "markdown",
   "metadata": {},
   "source": [
    "# Using MNE-Python for frequency and time-frequency analysis\n",
    "\n",
    "    Authors: Britta Westner, partly based on MNE-Python tutorials and examples\n",
    "    License: BSD (3-clause)\n",
    "\n",
    "Let's dive into MNE-Python! We will get to know MNE-Python's way of working by conducting some frequency and time-frequency decompositions.\n",
    "\n",
    "In the first part, we will explore some parts of MNE-Python together. In later parts, you will get to answer questions (exploring the data and code) and do some exercises (fixing and writing code).\n",
    "\n",
    "I hope your MNE-Python journey won't end there - and you'll go explore our tutorials and examples as well!"
   ]
  },
  {
   "cell_type": "code",
   "execution_count": null,
   "metadata": {},
   "outputs": [],
   "source": [
    "%matplotlib inline\n",
    "import numpy as np\n",
    "import scipy as sp\n",
    "import matplotlib.pyplot as plt\n",
    "\n",
    "import mne\n",
    "from mne.datasets import somato"
   ]
  },
  {
   "cell_type": "markdown",
   "metadata": {},
   "source": [
    "Above, we imported the packages we will be using. MNE-Python, of course, but also NumPy, SciPy, and Matplotlib. As you can see, we are again using shorthand for some of them, e.g., importing the module `pyplot` from Matplotlib as `plt`- so we have to write only `plt.plot()` instead of `matplotlib.pyplot.plot()`. \n",
    "\n",
    "And we are doing the same for `mne.datasets.somato`, which we shorten to `somato` - more about this dataset below!\n",
    "\n",
    "Lastly, we added `%matplotlib inline` to force our figures to be embedded into the notebook by default."
   ]
  },
  {
   "cell_type": "markdown",
   "metadata": {},
   "source": [
    "## The dataset\n",
    "\n",
    "For our MNE-Python adventure, we are using a dataset that is available from within MNE-Python. If you followed the setup instructions, you will have already downloaded it. If not - don't worry, the code below will prompt MNE to download the data _if it has not been downloaded yet_. \n",
    "\n",
    "The dataset is called `somato`, referring to the paradigm: somatosensory stimulation was applied to elicit event-related (de-)synchronization in the beta-band."
   ]
  },
  {
   "cell_type": "code",
   "execution_count": null,
   "metadata": {},
   "outputs": [],
   "source": [
    "# mne.set_log_level('error')  # suppress some of MNE's output to keep the notebook slim\n",
    "\n",
    "data_path = somato.data_path(download=True)  # download the data if necessary\n",
    "\n",
    "# construct the path to the raw file\n",
    "raw_fname = data_path / 'sub-01/meg/sub-01_task-somato_meg.fif'"
   ]
  },
  {
   "cell_type": "markdown",
   "metadata": {},
   "source": [
    "## Read the data and inspect the raw file\n",
    "\n",
    "Let's start with the raw data. The data is MEG data from an Elekta system. These files are also known as fif-Files, and we can read them in with the fif-reader of MNE-Python. \n",
    "\n",
    "MNE-Python has readers for an exhaustive list of systems! You can see (some) of them by starting to type `mne.io.read` in the code cell below and see what autocompletion gives you. - A neat trick for when you have trouble fully remembering a function name!\n",
    "\n",
    "A more exhaustive way is to consult the **API Reference** on the MNE-Python webpage: https://mne.tools/stable/api/file_io.html\n"
   ]
  },
  {
   "cell_type": "code",
   "execution_count": null,
   "metadata": {},
   "outputs": [],
   "source": [
    "# try out what autocompletion gives you for mne.io.read\n",
    "# start typing! - depending on your system/IDE you might also have to hit tab for completion\n"
   ]
  },
  {
   "cell_type": "code",
   "execution_count": null,
   "metadata": {},
   "outputs": [],
   "source": [
    "# read the raw file\n",
    "raw = mne.io.read_raw_fif(raw_fname)"
   ]
  },
  {
   "cell_type": "markdown",
   "metadata": {},
   "source": [
    "We can look at the so-called info object that is part of the `Raw` object. This has handy information about your data!"
   ]
  },
  {
   "cell_type": "code",
   "execution_count": null,
   "metadata": {},
   "outputs": [],
   "source": [
    "raw.info"
   ]
  },
  {
   "cell_type": "markdown",
   "metadata": {},
   "source": [
    "And we can of course plot the data. Here, you could for example also mark bad trials and channels (to which we will take a simple automated approach today). The data browser should open in a new window or be operable within the notebook - however, this is not fool-proof with Jupyter Notebooks. Another reason to not rely on them too strictly throughout your data analysis!"
   ]
  },
  {
   "cell_type": "code",
   "execution_count": null,
   "metadata": {},
   "outputs": [],
   "source": [
    "raw.plot()"
   ]
  },
  {
   "cell_type": "code",
   "execution_count": null,
   "metadata": {},
   "outputs": [],
   "source": [
    "# look at what changed in raw\n",
    "raw.info"
   ]
  },
  {
   "cell_type": "code",
   "execution_count": null,
   "metadata": {},
   "outputs": [],
   "source": [
    "raw.annotations"
   ]
  },
  {
   "cell_type": "code",
   "execution_count": null,
   "metadata": {},
   "outputs": [],
   "source": [
    "# if you messed with raw, it's a good idea to reload it :)\n",
    "raw = mne.io.read_raw_fif(raw_fname)"
   ]
  },
  {
   "cell_type": "markdown",
   "metadata": {},
   "source": [
    "## Epoch the data\n",
    "\n",
    "Time to learn how to epoch the data into trials!\n",
    "\n",
    "For that we of course need triggers - that is quite an easy setup here: we have only one trigger value and one trigger channel. The `event_id` (the trigger value) is 1.\n",
    "\n",
    "We will cut fairly long epochs: from -1 to 3 seconds around the event. We will already baseline-correct our events with a baseline extending to 0.\n",
    "\n",
    "Another thing we want to set up is which channels to keep when epoching: we will keep only the MEG gradiometers (the system has magnetometers, too!) and the EOG (which we will use for data cleaning).\n",
    "\n",
    "And finally, we use some simple heuristic to disregard noisy trials, based on cut-off values."
   ]
  },
  {
   "cell_type": "code",
   "execution_count": null,
   "metadata": {},
   "outputs": [],
   "source": [
    "# setting up all our parameters for epoching\n",
    "\n",
    "# identify events and specify epoching parameters\n",
    "events = mne.find_events(raw, stim_channel='STI 014')\n",
    "event_id, tmin, tmax = 1, -1., 3.\n",
    "baseline = (None, 0)\n",
    "\n",
    "# specify which channels to keep after epoching\n",
    "picks = mne.pick_types(raw.info, meg='grad', eeg=False, eog=True, stim=False)\n",
    "\n",
    "# rejecting trials based on a simple heuristic\n",
    "rejecting = dict(grad=4000e-13, eog=350e-6)"
   ]
  },
  {
   "cell_type": "code",
   "execution_count": null,
   "metadata": {},
   "outputs": [],
   "source": [
    "# We can look at the events array:\n",
    "events"
   ]
  },
  {
   "cell_type": "markdown",
   "metadata": {},
   "source": [
    "Now for the actual epoching - we give all this information to the `Epochs` class - it will make our `epochs` object!"
   ]
  },
  {
   "cell_type": "code",
   "execution_count": null,
   "metadata": {},
   "outputs": [],
   "source": [
    "epochs = mne.Epochs(\n",
    "    raw,\n",
    "    events,\n",
    "    event_id, \n",
    "    tmin,\n",
    "    tmax,\n",
    "    picks=picks,\n",
    "    baseline=baseline,\n",
    "    reject=rejecting,\n",
    "    preload=True\n",
    ")"
   ]
  },
  {
   "cell_type": "code",
   "execution_count": null,
   "metadata": {},
   "outputs": [],
   "source": [
    "epochs"
   ]
  },
  {
   "cell_type": "markdown",
   "metadata": {},
   "source": [
    "## Some MNE-Python idiosyncracies\n",
    "\n",
    "Let's dive into some of the things to be aware of when working with Python and MNE-Python!\n",
    "\n",
    "Let's first make a _copy_ of our epochs - it will become clear why :)\n",
    "\n",
    "We can do this with a _method_ that belongs to the `epochs` object."
   ]
  },
  {
   "cell_type": "code",
   "execution_count": null,
   "metadata": {},
   "outputs": [],
   "source": [
    "test_epochs = epochs.copy()"
   ]
  },
  {
   "cell_type": "markdown",
   "metadata": {},
   "source": [
    "MNE-Python makes it possible to chain methods:"
   ]
  },
  {
   "cell_type": "markdown",
   "metadata": {},
   "source": [
    "<div class=\"alert alert-warning\">\n",
    "    <b>QUESTION</b>:\n",
    "     <ul>\n",
    "    <li> Look at the code below: what operations do you expect to happen and in which order?</li>\n",
    "    </ul>\n",
    "</div>"
   ]
  },
  {
   "cell_type": "markdown",
   "metadata": {},
   "source": [
    "**Answer**: "
   ]
  },
  {
   "cell_type": "code",
   "execution_count": null,
   "metadata": {},
   "outputs": [],
   "source": [
    "test_epochs.filter(l_freq=None, h_freq=15.).average().plot();"
   ]
  },
  {
   "cell_type": "markdown",
   "metadata": {},
   "source": [
    "<div class=\"alert alert-warning\">\n",
    "    <b>QUESTION</b>:\n",
    "     <ul>\n",
    "    <li> What do you think happened to test_epochs?</li>\n",
    "    </ul>\n",
    "</div>"
   ]
  },
  {
   "cell_type": "markdown",
   "metadata": {},
   "source": [
    "**Answer**: "
   ]
  },
  {
   "cell_type": "markdown",
   "metadata": {},
   "source": [
    "Well ... let's find out by plotting and comparing it to our original epochs!"
   ]
  },
  {
   "cell_type": "code",
   "execution_count": null,
   "metadata": {},
   "outputs": [],
   "source": [
    "test_epochs.average().plot(titles='test epochs');\n",
    "epochs.average().plot(titles='original epochs');"
   ]
  },
  {
   "cell_type": "markdown",
   "metadata": {},
   "source": [
    "How can I find out which methods an object has?\n",
    "- via tab / auto completion\n",
    "- looking at the API reference of the class: https://mne.tools/stable/generated/mne.Epochs.html\n",
    "- calling `dir()`"
   ]
  },
  {
   "cell_type": "code",
   "execution_count": null,
   "metadata": {},
   "outputs": [],
   "source": [
    "dir(epochs)"
   ]
  },
  {
   "cell_type": "markdown",
   "metadata": {},
   "source": [
    "... and how do I know if a method operates _in place_?!\n",
    "\n",
    "Look at the documentation!\n",
    "- either online or:\n",
    "- by calling for help from within Python :)"
   ]
  },
  {
   "cell_type": "code",
   "execution_count": null,
   "metadata": {},
   "outputs": [],
   "source": [
    "?epochs.filter"
   ]
  },
  {
   "cell_type": "markdown",
   "metadata": {},
   "source": [
    "You can also find out whether an object has, e.g., been filtered by looking at it's print-out:"
   ]
  },
  {
   "cell_type": "code",
   "execution_count": null,
   "metadata": {},
   "outputs": [],
   "source": [
    "test_epochs"
   ]
  },
  {
   "cell_type": "markdown",
   "metadata": {},
   "source": [
    "## Frequency analysis\n",
    "\n",
    "Now that we have covered some of the workings of MNE-Python, let's get to our actual task: frequency decomposition!\n",
    "\n",
    "We start by exploring the frequency content of our epochs (without time-resolution): let's check out the **power spectrum**!\n",
    "\n",
    "We choose the multitaper method here - the `bandwidth` parameter controls the spectral resolution (how many tapers). You can increase the resolution by choosing a narrower bandwidth at the cost of longer computation time."
   ]
  },
  {
   "cell_type": "code",
   "execution_count": null,
   "metadata": {},
   "outputs": [],
   "source": [
    "epochs_psd = epochs.compute_psd(method='multitaper', fmin=2., fmax=45., bandwidth=2.)"
   ]
  },
  {
   "cell_type": "code",
   "execution_count": null,
   "metadata": {},
   "outputs": [],
   "source": [
    "# as always, we can get some insight by printing the object\n",
    "epochs_psd"
   ]
  },
  {
   "cell_type": "code",
   "execution_count": null,
   "metadata": {},
   "outputs": [],
   "source": [
    "# let's plot this - we force the notebook to open an extra, interactive figure\n",
    "%matplotlib qt\n",
    "epochs_psd.plot();"
   ]
  },
  {
   "cell_type": "markdown",
   "metadata": {},
   "source": [
    "<div class=\"alert alert-success\">\n",
    "    <b>EXERCISE</b>:\n",
    "     <ul>\n",
    "    <li> What is the name of the EEG channel with the highest power at the alpha peak?</li>\n",
    "    <li> Based on this plot, what do you expect the topography at 9 Hz to look like?</li>\n",
    "    <li> Can you find a way to confirm this (without writing any code)?</li>\n",
    "    </ul>\n",
    "</div>"
   ]
  },
  {
   "cell_type": "markdown",
   "metadata": {},
   "source": [
    "**Answers:**\n"
   ]
  },
  {
   "cell_type": "markdown",
   "metadata": {},
   "source": [
    "We can also look at the topographies of this power spectrum, e.g. for different frequency bands. Here, we have to specify a channel type!"
   ]
  },
  {
   "cell_type": "code",
   "execution_count": null,
   "metadata": {},
   "outputs": [],
   "source": [
    "%matplotlib inline\n",
    "bands = {'Alpha (8-12 Hz)': (8, 12), \n",
    "         'Beta (12-30 Hz)': (12, 30), \n",
    "         'Gamma (30-45 Hz)': (30, 45)}\n",
    "epochs_psd.plot_topomap(ch_type='grad', bands=bands, normalize=False, cmap='viridis');"
   ]
  },
  {
   "cell_type": "markdown",
   "metadata": {},
   "source": [
    "## Time-frequency analysis: power and inter-trial coherence\n",
    "\n",
    "Let's now compute time-frequency representations (TFRs) from our Epochs.\n",
    "We can also look at power and inter-trial coherence (ITC).\n",
    "\n",
    "To this we'll use the method `epochs.compute_tfr()`, asking it to use Morlet wavelets for the decomposition."
   ]
  },
  {
   "cell_type": "code",
   "execution_count": null,
   "metadata": {},
   "outputs": [],
   "source": [
    "# define frequencies of interest (log-spaced)\n",
    "freqs = np.logspace(*np.log10([8, 45]), num=20)\n",
    "\n",
    "# number of cycles \n",
    "n_cycles = 3.  \n",
    "\n",
    "# compute the TFR using Morlet wavelets\n",
    "power, itc = epochs.compute_tfr(\n",
    "    method='morlet', \n",
    "    freqs=freqs, \n",
    "    n_cycles=n_cycles, \n",
    "    average=True,\n",
    "    use_fft=True,\n",
    "    return_itc=True, \n",
    "    decim=3, \n",
    "    n_jobs=1)"
   ]
  },
  {
   "cell_type": "markdown",
   "metadata": {},
   "source": [
    "## Inspect time-frequency-resolved power\n",
    "\n",
    "\n",
    "Let's look at the time-frequency spectra of all channels - in one plot!\n",
    "\n",
    "\n",
    "<div class=\"alert alert-info\"><h4>Note</h4><p>The generated figure is interactive. In the topo you can click\n",
    "    on an image to visualize the data for one sensor.\n",
    "    You can also select a portion in the time-frequency plane to\n",
    "    obtain a topomap for a certain time-frequency region.</p></div>\n",
    "\n"
   ]
  },
  {
   "cell_type": "markdown",
   "metadata": {},
   "source": [
    "Before we get there - let's also specify some parameters, namely: the baseline mode and length!"
   ]
  },
  {
   "cell_type": "code",
   "execution_count": null,
   "metadata": {},
   "outputs": [],
   "source": [
    "# Some setting for our baseline, which will be applied to the plots\n",
    "baseline_mode = 'logratio' \n",
    "baseline = (-0.75, -0.1)"
   ]
  },
  {
   "cell_type": "markdown",
   "metadata": {},
   "source": [
    "<div class=\"alert alert-warning\">\n",
    "    <b>QUESTION</b>:\n",
    "     <ul>\n",
    "    <li> We are moving a 3 cycles long time window. Is our baseline a good choice?</li>\n",
    "    </ul>\n",
    "</div>"
   ]
  },
  {
   "cell_type": "markdown",
   "metadata": {},
   "source": [
    "**Answer:** "
   ]
  },
  {
   "cell_type": "markdown",
   "metadata": {},
   "source": [
    "Now, let's finally plot this!"
   ]
  },
  {
   "cell_type": "code",
   "execution_count": null,
   "metadata": {},
   "outputs": [],
   "source": [
    "%matplotlib qt\n",
    "power.plot_topo(baseline=baseline, mode=baseline_mode, title='Average power');"
   ]
  },
  {
   "cell_type": "markdown",
   "metadata": {},
   "source": [
    "<div class=\"alert alert-success\">\n",
    "    <b>EXERCISE</b>:\n",
    "     <ul>\n",
    "    <li> Hummm ... This looks different than the power plots above. What looks different?</li>\n",
    "    <li> Can you find out what's going on by experimenting with the plotting parameters?</li>\n",
    "    <li> Going back to the \"good\" plot, identify the channel with the strongest beta increase.</li>\n",
    "    </ul>\n",
    "</div>"
   ]
  },
  {
   "cell_type": "markdown",
   "metadata": {},
   "source": [
    "**Answers:** \n"
   ]
  },
  {
   "cell_type": "markdown",
   "metadata": {},
   "source": [
    "Let's plot one channel of interest - the one you identified above! \n",
    "\n",
    "<div class=\"alert alert-success\">\n",
    "    <b>EXERCISE</b>:\n",
    "     <ul>\n",
    "    <li> Find the channel's index by completing the code below.</li>\n",
    "    </ul>\n",
    "</div>"
   ]
  },
  {
   "cell_type": "code",
   "execution_count": null,
   "metadata": {},
   "outputs": [],
   "source": [
    "chan_idx = power.ch_names.index()  # complete this!"
   ]
  },
  {
   "cell_type": "markdown",
   "metadata": {},
   "source": [
    "Let's plot the TFR of this one channel!"
   ]
  },
  {
   "cell_type": "code",
   "execution_count": null,
   "metadata": {},
   "outputs": [],
   "source": [
    "%matplotlib inline\n",
    "power.plot(chan_idx, baseline=baseline, mode=baseline_mode, title=power.ch_names[chan_idx]);"
   ]
  },
  {
   "cell_type": "markdown",
   "metadata": {},
   "source": [
    "We can also look at topographies again! \n",
    "\n",
    "We have done this above for the power spectra. Our TFR output has a similar method, however, not all parameters are the same. Below, you find the code for plotting the **beta band topography**. Let's assume you also want to plot the following bands:\n",
    "- alpha: 8-12 Hz\n",
    "- gamma: 30-45 Hz\n",
    "\n",
    "<div class=\"alert alert-success\">\n",
    "    <b>EXERCISE</b>:\n",
    "     <ul>\n",
    "    <li> Can you modify the code to plot all bands in a for-loop?</li>\n",
    "    </ul>\n",
    "</div>\n",
    "\n",
    "Tips: \n",
    "- you can create a figure and axes object with `fig, axes = plt.subplots(1, 3, figsize=(7, 4))` and `power.plot_topomap()` takes an ax via the `axes` parameter\n",
    "- you also have to suppress the immediate plotting of the figure (to not end up with only the first one): add `show=False` to your `power.plot_topomap()` call"
   ]
  },
  {
   "cell_type": "code",
   "execution_count": null,
   "metadata": {},
   "outputs": [],
   "source": [
    "# code to plot beta band\n",
    "power.plot_topomap(ch_type='grad', tmin=0.5, tmax=1.0, fmin=13., fmax=30., \n",
    "                   baseline=baseline, mode=baseline_mode, contours=1, colorbar=False);"
   ]
  },
  {
   "cell_type": "code",
   "execution_count": null,
   "metadata": {},
   "outputs": [],
   "source": [
    "# Answer: for loop code\n"
   ]
  },
  {
   "cell_type": "markdown",
   "metadata": {},
   "source": [
    "## Joint Plots\n",
    "\n",
    "Pretty neat are the creation of joint plots showing both the aggregated TFR\n",
    "across all channels and topomaps at specified times and frequencies to obtain\n",
    "a quick overview regarding oscillatory effects across time and space.\n",
    "\n"
   ]
  },
  {
   "cell_type": "code",
   "execution_count": null,
   "metadata": {},
   "outputs": [],
   "source": [
    "power.plot_joint(baseline=baseline, mode='mean', tmin=None, tmax=None,\n",
    "                 timefreqs=[(0.5, 10.), (1., 15.)]);"
   ]
  },
  {
   "cell_type": "markdown",
   "metadata": {},
   "source": [
    "# Inspect ITC\n",
    "\n",
    "Oh, I almost forgot: we also computed the inter-trial coherence! Pretty good idea to check if we want to distinguish induced from evoked activity! This one will show us activity that is phase-locked across trials and can thus be assumed to be evoked!\n"
   ]
  },
  {
   "cell_type": "code",
   "execution_count": null,
   "metadata": {},
   "outputs": [],
   "source": [
    "%matplotlib inline\n",
    "itc.plot_joint(baseline=baseline, mode='mean', tmin=None, tmax=None,\n",
    "                 timefreqs=[(0.15, 10.)]);"
   ]
  },
  {
   "cell_type": "markdown",
   "metadata": {},
   "source": [
    "<div class=\"alert alert-warning\">\n",
    "    <b>QUESTION</b>:\n",
    "     <ul>\n",
    "    <li> What can we conclude from this for our late beta effects?</li>\n",
    "    </ul>\n",
    "</div>"
   ]
  },
  {
   "cell_type": "markdown",
   "metadata": {},
   "source": [
    "**Answer:** "
   ]
  },
  {
   "cell_type": "markdown",
   "metadata": {},
   "source": [
    "## Test the beta-band against baseline\n",
    "\n",
    "Let's assume we now want to test if our post-stimulation period is actually significantly different from the baseline!\n",
    "\n",
    "For that, we have to recompute our time-frequency representation to include single trials. This time, we can skip the ITC computation.\n",
    "\n",
    "<div class=\"alert alert-success\">\n",
    "    <b>EXERCISE</b>:\n",
    "     <ul>\n",
    "    <li> Can you modify the TFR computation to give you single trials and not compute the ITC?</li>\n",
    "    </ul>\n",
    "</div>\n"
   ]
  },
  {
   "cell_type": "code",
   "execution_count": null,
   "metadata": {},
   "outputs": [],
   "source": [
    "# Answer:\n",
    "# careful, we only have one output now!\n"
   ]
  },
  {
   "cell_type": "markdown",
   "metadata": {},
   "source": [
    "We express the data as percentage increase or decrease as compared to the baseline - that way, we can test the data against 0 later on."
   ]
  },
  {
   "cell_type": "code",
   "execution_count": null,
   "metadata": {},
   "outputs": [],
   "source": [
    "power.apply_baseline(baseline, mode='percent')"
   ]
  },
  {
   "cell_type": "markdown",
   "metadata": {},
   "source": [
    "For cluster permutation tests, you have to identify a cluster threshold. MNE-Python can automatically compute that for you (if you would like a threshold that corresponds to a 0.05 alpha level). But let's for the fun of it compute it ourselves for a more rigorous threshold!"
   ]
  },
  {
   "cell_type": "code",
   "execution_count": null,
   "metadata": {},
   "outputs": [],
   "source": [
    "aval = 0.001  # our alpha level\n",
    "df = power.data.shape[0] - 1  # compute degrees of freedom\n",
    "thresh = sp.stats.t.ppf(1 - aval, df)  # compute the corresponding t-value (one-tailed)"
   ]
  },
  {
   "cell_type": "markdown",
   "metadata": {},
   "source": [
    "To keep computational time reasonable, we will not test all channels but instead choose one channel to test (our previously identified channel with the biggest power increase). \n",
    "\n",
    "<div class=\"alert alert-success\">\n",
    "    <b>EXERCISE</b>:\n",
    "     <ul>\n",
    "    <li> Look at the shape of the data: which axis is the channels dimension?</li>\n",
    "    <li> Can you index the data in the permutation statistics function call with our channel?</li>\n",
    "    </ul>\n",
    "</div>\n",
    "\n",
    "Tip: The channel index was called `chan_idx`."
   ]
  },
  {
   "cell_type": "code",
   "execution_count": null,
   "metadata": {},
   "outputs": [],
   "source": [
    "# Answer:"
   ]
  },
  {
   "cell_type": "markdown",
   "metadata": {},
   "source": [
    "**Answer**:\n"
   ]
  },
  {
   "cell_type": "markdown",
   "metadata": {},
   "source": [
    "We run 1000 permutations and a one-tailed test (we only test relative _increases_, no decreases).\n",
    "\n",
    "**Remember to correctly index the data!**\n"
   ]
  },
  {
   "cell_type": "code",
   "execution_count": null,
   "metadata": {},
   "outputs": [],
   "source": [
    "t_obs, clusters, p_vals, h0 = mne.stats.permutation_cluster_1samp_test(\n",
    "    power.data[],  # ADD INDEXING HERE!\n",
    "    threshold=thresh,\n",
    "    n_permutations=1000,\n",
    "    tail=1,\n",
    "    out_type='mask',\n",
    "    seed=1519  # add a seed to make results reproducible\n",
    ")"
   ]
  },
  {
   "cell_type": "markdown",
   "metadata": {},
   "source": [
    "## Plot the results\n",
    "\n",
    "Now begins a bit of tedious work to be able to plot the data. \n",
    "\n",
    "<div class=\"alert alert-success\">\n",
    "    <b>EXERCISE</b>:\n",
    "     <ul>\n",
    "     <li> How many clusters are found? Are all of them below 0.05? Inspect the output of the test function!\n",
    "    <li> Look at the first code snippet below. Can you add comments to it that explain the code line by line?</li>\n",
    "    </ul>\n",
    "</div>"
   ]
  },
  {
   "cell_type": "markdown",
   "metadata": {},
   "source": [
    "**Answer:**\n"
   ]
  },
  {
   "cell_type": "code",
   "execution_count": null,
   "metadata": {},
   "outputs": [],
   "source": [
    "# Study the code and comment!\n",
    "\n",
    "average_data = power.average().data[chan_idx, ::]\n",
    "\n",
    "data_plot = np.nan * np.ones_like(average_data)\n",
    "\n",
    "for cluster, p_val in zip(clusters, p_vals):\n",
    "    if p_val < 0.05:       \n",
    "        data_plot[cluster] = average_data[cluster]"
   ]
  },
  {
   "cell_type": "markdown",
   "metadata": {},
   "source": [
    "Now we can plot the results - we choose to plot the original data in gray scale and overlay the parts belonging to a cluster in red.\n",
    "\n",
    "We'll do this only using Matplotlib!"
   ]
  },
  {
   "cell_type": "code",
   "execution_count": null,
   "metadata": {},
   "outputs": [],
   "source": [
    "# plot the original data\n",
    "plt.imshow(\n",
    "    average_data,\n",
    "    extent=[power.tmin, power.tmax, power.freqs[0], power.freqs[-1]],\n",
    "    origin='lower',\n",
    "    aspect='auto',\n",
    "    cmap='gray',\n",
    ")\n",
    "\n",
    "# plot the parts belonging to a cluster.\n",
    "max_val = np.nanmax(abs(data_plot))\n",
    "plt.imshow(\n",
    "    data_plot,\n",
    "    extent=[power.tmin, power.tmax, power.freqs[0], power.freqs[-1]],\n",
    "    origin='lower',\n",
    "    aspect='auto',\n",
    "    cmap='RdBu_r',\n",
    "    vmin=-max_val,\n",
    "    vmax=max_val\n",
    ")\n",
    "\n",
    "plt.title('Channel: %s' % power.ch_names[chan_idx])\n",
    "plt.xlabel('Time (s)')\n",
    "plt.ylabel('Frequency (Hz)')"
   ]
  },
  {
   "cell_type": "code",
   "execution_count": null,
   "metadata": {},
   "outputs": [],
   "source": []
  }
 ],
 "metadata": {
  "kernelspec": {
   "display_name": "Python 3 (ipykernel)",
   "language": "python",
   "name": "python3"
  },
  "language_info": {
   "codemirror_mode": {
    "name": "ipython",
    "version": 3
   },
   "file_extension": ".py",
   "mimetype": "text/x-python",
   "name": "python",
   "nbconvert_exporter": "python",
   "pygments_lexer": "ipython3",
   "version": "3.13.5"
  }
 },
 "nbformat": 4,
 "nbformat_minor": 4
}
